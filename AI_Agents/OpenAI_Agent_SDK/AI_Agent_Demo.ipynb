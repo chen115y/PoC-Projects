{
 "cells": [
  {
   "cell_type": "markdown",
   "id": "2dfbaf53-32de-4b8c-bd1c-d27371a87f81",
   "metadata": {},
   "source": [
    "# An Agentic System to Combine Structured Data with Unstructured Data by Using OpenAI Agent SDK\n",
    "\n",
    "## Set up"
   ]
  },
  {
   "cell_type": "code",
   "execution_count": null,
   "id": "47480955-9dd4-4837-8b4c-6821bb48306b",
   "metadata": {},
   "outputs": [],
   "source": [
    "%pip install PyPDF2 tqdm openai openai-agents -q\n",
    "%pip install \"pandasai>=3.0.0b2\" -q\n",
    "%pip install pandasai-openai -q\n",
    "%pip install pandas -q"
   ]
  },
  {
   "cell_type": "code",
   "execution_count": 1,
   "id": "730836f3",
   "metadata": {},
   "outputs": [],
   "source": [
    "from concurrent.futures import ThreadPoolExecutor\n",
    "from tqdm import tqdm\n",
    "import concurrent\n",
    "import PyPDF2\n",
    "import os\n",
    "import pandas as pd\n",
    "import base64\n",
    "import asyncio\n",
    "import uuid\n",
    "from pydantic import BaseModel\n",
    "from typing import Any\n",
    "import json\n",
    "import pandasai as pai\n",
    "from pandasai_openai import OpenAI as pai_llm"
   ]
  },
  {
   "cell_type": "code",
   "execution_count": null,
   "id": "31066ba7",
   "metadata": {},
   "outputs": [],
   "source": [
    "os.environ['OPENAI_API_KEY'] = 'your openai api key'\n",
    "os.environ['OPENAI_ORG_ID'] = 'your openai org id'"
   ]
  },
  {
   "cell_type": "code",
   "execution_count": 3,
   "id": "f6feaf3e-a2be-4c74-bad5-0c37bbe110b5",
   "metadata": {},
   "outputs": [],
   "source": [
    "from openai import OpenAI\n",
    "from openai.types.responses import ResponseContentPartDoneEvent, ResponseTextDeltaEvent\n",
    "from agents import Agent, FileSearchTool, Runner, trace, WebSearchTool, AgentHooks, RunContextWrapper, RawResponsesStreamEvent, Tool, TResponseInputItem, function_tool\n",
    "\n",
    "client = OpenAI(api_key=os.getenv('OPENAI_API_KEY'), organization=os.environ['OPENAI_ORG_ID'])"
   ]
  },
  {
   "cell_type": "markdown",
   "id": "01d64a60",
   "metadata": {},
   "source": [
    "## Upload PDFs to Vector Store for File Search"
   ]
  },
  {
   "cell_type": "code",
   "execution_count": 48,
   "id": "a6823030-9110-4143-ab7c-a223182eb7e0",
   "metadata": {},
   "outputs": [],
   "source": [
    "dir_pdfs = 'data' # have those PDFs stored locally at the folder 'data'\n",
    "pdf_files = [os.path.join(dir_pdfs, f) for f in os.listdir(dir_pdfs) if f.endswith('.pdf')]\n",
    "\n",
    "def upload_single_pdf(file_path: str, vector_store_id: str):\n",
    "    file_name = os.path.basename(file_path)\n",
    "    try:\n",
    "        file_response = client.files.create(file=open(file_path, 'rb'), purpose=\"assistants\")\n",
    "        attach_response = client.vector_stores.files.create(\n",
    "            vector_store_id=vector_store_id,\n",
    "            file_id=file_response.id\n",
    "        )\n",
    "        return {\"file\": file_name, \"status\": \"success\"}\n",
    "    except Exception as e:\n",
    "        print(f\"Error with {file_name}: {str(e)}\")\n",
    "        return {\"file\": file_name, \"status\": \"failed\", \"error\": str(e)}\n",
    "\n",
    "def upload_pdf_files_to_vector_store(vector_store_id: str):\n",
    "    pdf_files = [os.path.join(dir_pdfs, f) for f in os.listdir(dir_pdfs) if f.endswith('.pdf')]\n",
    "    stats = {\"total_files\": len(pdf_files), \"successful_uploads\": 0, \"failed_uploads\": 0, \"errors\": []}\n",
    "    \n",
    "    print(f\"{len(pdf_files)} PDF files to process. Uploading in parallel...\")\n",
    "\n",
    "    with concurrent.futures.ThreadPoolExecutor(max_workers=10) as executor:\n",
    "        futures = {executor.submit(upload_single_pdf, file_path, vector_store_id): file_path for file_path in pdf_files}\n",
    "        for future in tqdm(concurrent.futures.as_completed(futures), total=len(pdf_files)):\n",
    "            result = future.result()\n",
    "            if result[\"status\"] == \"success\":\n",
    "                stats[\"successful_uploads\"] += 1\n",
    "            else:\n",
    "                stats[\"failed_uploads\"] += 1\n",
    "                stats[\"errors\"].append(result)\n",
    "\n",
    "    return stats\n",
    "\n",
    "def create_vector_store(store_name: str) -> dict:\n",
    "    try:\n",
    "        vector_store = client.vector_stores.create(name=store_name)\n",
    "        details = {\n",
    "            \"id\": vector_store.id,\n",
    "            \"name\": vector_store.name,\n",
    "            \"created_at\": vector_store.created_at,\n",
    "            \"file_count\": vector_store.file_counts.completed\n",
    "        }\n",
    "        print(\"Vector store created:\", details)\n",
    "        return details\n",
    "    except Exception as e:\n",
    "        print(f\"Error creating vector store: {e}\")\n",
    "        return {}"
   ]
  },
  {
   "cell_type": "code",
   "execution_count": 49,
   "id": "5cb6cba0-931e-426a-88aa-34a62cc7158c",
   "metadata": {},
   "outputs": [
    {
     "name": "stdout",
     "output_type": "stream",
     "text": [
      "Vector store created: {'id': 'vs_67d217c76f448191b05e722388198191', 'name': 'ix_employees_benefits_store', 'created_at': 1741821895, 'file_count': 0}\n"
     ]
    }
   ],
   "source": [
    "store_name = \"ix_employees_benefits_store\"\n",
    "vector_store_details = create_vector_store(store_name)"
   ]
  },
  {
   "cell_type": "code",
   "execution_count": null,
   "id": "8419d079",
   "metadata": {},
   "outputs": [
    {
     "name": "stdout",
     "output_type": "stream",
     "text": [
      "1 PDF files to process. Uploading in parallel...\n"
     ]
    },
    {
     "name": "stderr",
     "output_type": "stream",
     "text": [
      "100%|██████████| 1/1 [00:02<00:00,  2.22s/it]\n"
     ]
    },
    {
     "data": {
      "text/plain": [
       "{'total_files': 1, 'successful_uploads': 1, 'failed_uploads': 0, 'errors': []}"
      ]
     },
     "execution_count": 50,
     "metadata": {},
     "output_type": "execute_result"
    }
   ],
   "source": [
    "upload_pdf_files_to_vector_store(vector_store_details[\"id\"])"
   ]
  },
  {
   "cell_type": "code",
   "execution_count": null,
   "id": "44ce63cd",
   "metadata": {},
   "outputs": [
    {
     "name": "stdout",
     "output_type": "stream",
     "text": [
      "vs_67d1e4fa314881919bb03637e3de09d9 ix_employees_benefits_store\n"
     ]
    }
   ],
   "source": [
    "for store in client.vector_stores.list():\n",
    "    print(store.id, store.name)\n"
   ]
  },
  {
   "cell_type": "code",
   "execution_count": 4,
   "id": "15348bba",
   "metadata": {},
   "outputs": [],
   "source": [
    "vector_store_id = \"vs_67d1e4fa314881919bb03637e3de09d9\" #vector_store_details['id']"
   ]
  },
  {
   "cell_type": "markdown",
   "id": "e5f4ade3-2b3e-4df6-a441-c1ee3ea73172",
   "metadata": {},
   "source": [
    "## Define the tool to search the employee dataset (csv file)"
   ]
  },
  {
   "cell_type": "code",
   "execution_count": 5,
   "id": "36a389dd",
   "metadata": {},
   "outputs": [],
   "source": [
    "@function_tool\n",
    "def search_employee(criteria: str):\n",
    "    llm = pai_llm(api_token=os.getenv('OPENAI_API_KEY'))\n",
    "    pai.config.set({\"llm\": llm})\n",
    "\n",
    "    df_smart = pai.read_csv(\"data/employees.csv\")\n",
    "    llm_result = df_smart.chat(\"Return all data in the dataset that have most relevant information of \" + criteria + \".\")\n",
    "\n",
    "    llm_result.value\n",
    "    if llm_result is None:\n",
    "            result = {\n",
    "              \"status\": \"success\", \n",
    "              \"message\": \"No data found.\"\n",
    "            }\n",
    "            return json.dumps(result)\n",
    "    else:\n",
    "        # Convert to regular pandas DataFrame and use head()\n",
    "        # result_df = pd.DataFrame(llm_result)\n",
    "        # results = result_df\n",
    "        results = llm_result.value\n",
    "        return results.to_json()\n",
    "\n",
    "class FinalResult(BaseModel):\n",
    "    First_Name: str\n",
    "    Last_Name: str\n",
    "    Job_Title: str\n",
    "    Department: str\n",
    "    Employee_Status: str\n"
   ]
  },
  {
   "cell_type": "markdown",
   "id": "6d2d0f1c",
   "metadata": {},
   "source": [
    "## Create the agent that can leverage the appropriate tools based on the user's request"
   ]
  },
  {
   "cell_type": "markdown",
   "id": "88d5f5e0",
   "metadata": {},
   "source": [
    "### Define the agent"
   ]
  },
  {
   "cell_type": "code",
   "execution_count": 6,
   "id": "1708c836",
   "metadata": {},
   "outputs": [],
   "source": [
    "all_tools_agent = Agent(\n",
    "    name=\"All Tools Agent\",\n",
    "    instructions=\"You are a helpful assistant that can leverage the appropriate tools based on the user's request.\",\n",
    "    # handoffs=[empolyee_search_agent, file_search_agent, web_search_agent],\n",
    "    tools=[\n",
    "        FileSearchTool(vector_store_ids=[vector_store_id], max_num_results=3, include_search_results=True),\n",
    "        search_employee,\n",
    "        WebSearchTool(user_location={\"type\": \"approximate\", \"city\": \"New York\"})\n",
    "    ]\n",
    ")"
   ]
  },
  {
   "cell_type": "markdown",
   "id": "22ace7a3",
   "metadata": {},
   "source": [
    "### Run the agent"
   ]
  },
  {
   "cell_type": "code",
   "execution_count": 39,
   "id": "da92e800",
   "metadata": {},
   "outputs": [
    {
     "name": "stdout",
     "output_type": "stream",
     "text": [
      "John Doe is a full-time employee in the Engineering department, working as a Software Engineer. To determine his insurance benefit eligibility, I need to check the specific conditions for coverage.\n",
      "\n",
      "According to the information available, employees are generally eligible for coverage if they meet the following criteria:\n",
      "\n",
      "1. Actively working the minimum required hours.\n",
      "2. Performing the major duties of their regular occupation.\n",
      "3. Having all required premiums paid.\n",
      "\n",
      "Since John Doe is a full-time employee, it is likely that he meets these eligibility requirements. However, you might want to verify specifics related to any conditions or waivers that might apply .\n",
      "\n",
      "If you have any additional conditions or specific plans, let me know, and I can assist further!\n"
     ]
    }
   ],
   "source": [
    "result = await Runner.run(\n",
    "        all_tools_agent,\n",
    "        input=f\"Find the employee named as Doe John and tell me if he is eligible for the insurance benefit\",\n",
    "    )\n",
    "print(result.final_output)"
   ]
  },
  {
   "cell_type": "code",
   "execution_count": 40,
   "id": "1ccfc5ef",
   "metadata": {},
   "outputs": [
    {
     "name": "stdout",
     "output_type": "stream",
     "text": [
      "Here are a few recommendations based on the existing Guardian Group dental plan information, along with potential updates to enhance the benefits:\n",
      "\n",
      "1. **Include Specialty Services**: Consider adding coverage for services related to Temporomandibular Joint (TMJ) dysfunctions. This can include diagnostic, non-surgical, and surgical treatments for TMJ and craniomandibular joint disorders.\n",
      "\n",
      "2. **Expand Preventive Care**: Enhance preventive dental services by possibly increasing the frequency of covered services like cleanings and exams, which are currently limited.\n",
      "\n",
      "3. **Flexible Payment Structures**: Review the payment rates for different service groups. Offering higher coverage rates for Group II and III services, or reducing deductibles could make the plan more attractive.\n",
      "\n",
      "4. **Incorporate Additional Wellness Services**: Consider arranging selected services and discounts such as Vision Services or Comprehensive Employee Assistance Programs (EAP) for broader employee wellness.\n",
      "\n",
      "Implementing these updates could improve employee satisfaction and make dental benefits more comprehensive and appealing.\n"
     ]
    }
   ],
   "source": [
    "result = await Runner.run(\n",
    "        all_tools_agent,\n",
    "        input=f\"Search the web for 'Guardian Group insurance dental plan' and tell me any recommendations to update the existing insurance benefit\",\n",
    "    )\n",
    "print(result.final_output)"
   ]
  },
  {
   "cell_type": "markdown",
   "id": "f66e4cd3",
   "metadata": {},
   "source": [
    "## Create multiple agents to orchestrate the response"
   ]
  },
  {
   "cell_type": "markdown",
   "id": "c8dc7e15",
   "metadata": {},
   "source": [
    "### Define the agents"
   ]
  },
  {
   "cell_type": "code",
   "execution_count": 7,
   "id": "980323d0-0112-4c9e-9b90-67719739026f",
   "metadata": {},
   "outputs": [],
   "source": [
    "file_search_agent = Agent(\n",
    "    name=\"single file search\",\n",
    "    tools=[FileSearchTool(vector_store_ids=[vector_store_id], max_num_results=3, include_search_results=True)],\n",
    "    model=\"gpt-4o-mini\",\n",
    "    instructions=\"You are a helpful assistant that can answer questions about the insurance benefits.\"\n",
    ")"
   ]
  },
  {
   "cell_type": "code",
   "execution_count": 8,
   "id": "04fd0246",
   "metadata": {},
   "outputs": [],
   "source": [
    "web_search_agent = Agent(\n",
    "    name=\"Web search agent\",\n",
    "    instructions=\"You are a helpful agent that can search the web for information.\",\n",
    "    tools=[WebSearchTool(user_location={\"type\": \"approximate\", \"city\": \"New York\"})],\n",
    ")"
   ]
  },
  {
   "cell_type": "code",
   "execution_count": 9,
   "id": "c3a825d2",
   "metadata": {},
   "outputs": [],
   "source": [
    "orchestrator_agent = Agent(\n",
    "    name=\"orchestrator_agent\",\n",
    "    instructions=(\n",
    "        \"You are a helpful agent. You use the agents given to you to find the information that the user is looking for.\"\n",
    "        \"If asked for multiple requests, you call the relevant agents in order.\"\n",
    "        \"You never generate information on your own, you always use the provided tools.\"\n",
    "    ),\n",
    "    handoffs=[file_search_agent, web_search_agent]\n",
    ")"
   ]
  },
  {
   "cell_type": "code",
   "execution_count": 10,
   "id": "5cb9c138",
   "metadata": {},
   "outputs": [
    {
     "name": "stdout",
     "output_type": "stream",
     "text": [
      "Guardian Life Insurance Company offers a range of group dental insurance plans designed to meet diverse employer and employee needs. To enhance your existing dental benefits, consider the following recommendations:\n",
      "\n",
      "**1. Explore Guardian's Group Dental PPO Insurance:**\n",
      "Guardian's Group Dental PPO plans are highly customizable, allowing you to tailor coverage based on your budget and employees' preferences. These plans are available to companies of any size, starting with just two employees, and can be structured as employer-paid or voluntary. By configuring a plan that aligns with your financial parameters and offers employees flexibility in choosing their dentists, you can provide a valuable benefit that promotes oral health. ([guardiananytime.com](https://www.guardiananytime.com/gafd/wps/wcm/connect/GA%2BContent/GA/Home/Employers/Products%2Band%2BCoverage/Dental/group-dental-ppo?utm_source=openai))\n",
      "\n",
      "**2. Leverage Guardian's Extensive Provider Network:**\n",
      "Guardian boasts one of the nation's largest dental networks, encompassing over 120,000 providers and 420,000 dental offices. This extensive network enables employees to access quality care conveniently and often at reduced costs. By encouraging the use of in-network providers, employees can save an average of 36% on dental services. ([guardiananytime.com](https://www.guardiananytime.com/gafd/wps/wcm/connect/GA%2BContent/GA/Home/Employers/Products%2Band%2BCoverage/Dental/group-dental-ppo?utm_source=openai))\n",
      "\n",
      "**3. Implement Forward-Looking Dental Features:**\n",
      "Guardian offers innovative features that can enhance your dental benefits package:\n",
      "\n",
      "- **Early Smiles™:** Provides 100% coverage for preventive, basic, and major dental care for children aged 12 and under when using in-network providers. This feature has no waiting periods or deductibles, promoting early and consistent dental care for dependents. ([guardianlife.com](https://www.guardianlife.com/dental-insurance/forward-looking?utm_source=openai))\n",
      "\n",
      "- **Diminishing Deductible™:** Reduces the annual plan deductible each year for employees and their dependents. After three years, the deductible reaches $0, rewarding long-term plan participation and encouraging continued use of dental benefits. ([guardianlife.com](https://www.guardianlife.com/dental-insurance/forward-looking?utm_source=openai))\n",
      "\n",
      "**4. Consider Plan Options with Enhanced Coverage:**\n",
      "Guardian offers various plan tiers, such as the Diamond, Achiever, Core, and Starter plans, each with different levels of coverage and premiums. For instance, the Diamond plan offers 100% coverage for preventive care, 80% for basic care, and 50% for major services, implants, dentures, orthodontia, and teeth whitening. Evaluating these options can help you select a plan that best fits your employees' needs and your budget. ([flossy.com](https://www.flossy.com/blog/guardian-dental-insurance-provider-review?utm_source=openai))\n",
      "\n",
      "By incorporating these recommendations, you can enhance your dental insurance offerings, providing comprehensive and flexible benefits that support your employees' oral health and overall well-being. \n"
     ]
    }
   ],
   "source": [
    "result = await Runner.run(\n",
    "        orchestrator_agent,\n",
    "        input=f\"Search the web for 'Guardian Group insurance dental plan' and tell me any recommendations to update the existing insurance benefit\",\n",
    "    )\n",
    "print(result.final_output)"
   ]
  }
 ],
 "metadata": {
  "kernelspec": {
   "display_name": "base",
   "language": "python",
   "name": "python3"
  },
  "language_info": {
   "codemirror_mode": {
    "name": "ipython",
    "version": 3
   },
   "file_extension": ".py",
   "mimetype": "text/x-python",
   "name": "python",
   "nbconvert_exporter": "python",
   "pygments_lexer": "ipython3",
   "version": "3.10.10"
  }
 },
 "nbformat": 4,
 "nbformat_minor": 5
}
